{
 "cells": [
  {
   "cell_type": "markdown",
   "metadata": {},
   "source": [
    "# Stock Market Price Prediction\n",
    "\n",
    "## Table of Contents\n",
    "1. [Introduction](#Introduction)\n",
    "2. [Data Collection](#Data-Collection)\n",
    "3. [Feature Engineering](#Feature-Engineering)\n",
    "4. [Data Preprocessing](#Data-Preprocessing)\n",
    "5. [Model Training](#Model-Training)\n",
    "6. [Model Evaluation](#Model-Evaluation)\n",
    "7. [Conclusion](#Conclusion)"
   ]
  },
  {
   "cell_type": "markdown",
   "metadata": {},
   "source": [
    "## Introduction\n",
    "In this project, we aim to predict whether a stock's price will go up or down based on historical data and technical indicators. This is a binary classification problem where the target variable is the direction of the stock price movement."
   ]
  },
  {
   "cell_type": "markdown",
   "metadata": {},
   "source": [
    "## Data Collection\n",
    "We will gather historical stock price data using the `yfinance` library and calculate technical indicators such as moving averages, RSI, and MACD."
   ]
  },
  {
   "cell_type": "code",
   "execution_count": 1,
   "metadata": {},
   "outputs": [],
   "source": [
    "# %conda install -c conda-forge ta-lib"
   ]
  },
  {
   "cell_type": "code",
   "execution_count": 2,
   "metadata": {},
   "outputs": [
    {
     "name": "stdout",
     "output_type": "stream",
     "text": [
      "Collecting ta-lib\n",
      "  Using cached TA-Lib-0.5.1.tar.gz (369 kB)\n",
      "  Installing build dependencies: started\n",
      "  Installing build dependencies: finished with status 'done'\n",
      "  Getting requirements to build wheel: started\n",
      "  Getting requirements to build wheel: finished with status 'done'\n",
      "  Preparing metadata (pyproject.toml): started\n",
      "  Preparing metadata (pyproject.toml): finished with status 'done'\n",
      "Requirement already satisfied: numpy in c:\\users\\adame\\anaconda3_\\lib\\site-packages (from ta-lib) (1.26.4)\n",
      "Building wheels for collected packages: ta-lib\n",
      "  Building wheel for ta-lib (pyproject.toml): started\n",
      "  Building wheel for ta-lib (pyproject.toml): finished with status 'error'\n",
      "Failed to build ta-lib\n",
      "Note: you may need to restart the kernel to use updated packages.\n"
     ]
    },
    {
     "name": "stderr",
     "output_type": "stream",
     "text": [
      "  error: subprocess-exited-with-error\n",
      "  \n",
      "  × Building wheel for ta-lib (pyproject.toml) did not run successfully.\n",
      "  │ exit code: 1\n",
      "  ╰─> [32 lines of output]\n",
      "      <string>:75: UserWarning: Cannot find ta-lib library, installation may fail.\n",
      "      running bdist_wheel\n",
      "      running build\n",
      "      running build_py\n",
      "      creating build\\lib.win-amd64-cpython-311\\talib\n",
      "      copying talib\\abstract.py -> build\\lib.win-amd64-cpython-311\\talib\n",
      "      copying talib\\deprecated.py -> build\\lib.win-amd64-cpython-311\\talib\n",
      "      copying talib\\stream.py -> build\\lib.win-amd64-cpython-311\\talib\n",
      "      copying talib\\__init__.py -> build\\lib.win-amd64-cpython-311\\talib\n",
      "      running egg_info\n",
      "      writing ta_lib.egg-info\\PKG-INFO\n",
      "      writing dependency_links to ta_lib.egg-info\\dependency_links.txt\n",
      "      writing requirements to ta_lib.egg-info\\requires.txt\n",
      "      writing top-level names to ta_lib.egg-info\\top_level.txt\n",
      "      reading manifest file 'ta_lib.egg-info\\SOURCES.txt'\n",
      "      reading manifest template 'MANIFEST.in'\n",
      "      adding license file 'LICENSE'\n",
      "      adding license file 'AUTHORS'\n",
      "      writing manifest file 'ta_lib.egg-info\\SOURCES.txt'\n",
      "      copying talib\\_abstract.pxi -> build\\lib.win-amd64-cpython-311\\talib\n",
      "      copying talib\\_common.pxi -> build\\lib.win-amd64-cpython-311\\talib\n",
      "      copying talib\\_func.pxi -> build\\lib.win-amd64-cpython-311\\talib\n",
      "      copying talib\\_stream.pxi -> build\\lib.win-amd64-cpython-311\\talib\n",
      "      copying talib\\_ta_lib.c -> build\\lib.win-amd64-cpython-311\\talib\n",
      "      copying talib\\_ta_lib.pyx -> build\\lib.win-amd64-cpython-311\\talib\n",
      "      running build_ext\n",
      "      building 'talib._ta_lib' extension\n",
      "      creating build\\temp.win-amd64-cpython-311\\Release\\talib\n",
      "      \"C:\\Program Files (x86)\\Microsoft Visual Studio\\2022\\BuildTools\\VC\\Tools\\MSVC\\14.42.34433\\bin\\HostX86\\x64\\cl.exe\" /c /nologo /O2 /W3 /GL /DNDEBUG /MD -Ic:\\ta-lib\\c\\include -IC:\\Users\\adame\\AppData\\Local\\Temp\\pip-build-env-4ivvlu12\\overlay\\Lib\\site-packages\\numpy\\_core\\include -Ic:\\Users\\adame\\anaconda3_\\include -Ic:\\Users\\adame\\anaconda3_\\Include \"-IC:\\Program Files (x86)\\Microsoft Visual Studio\\2022\\BuildTools\\VC\\Tools\\MSVC\\14.42.34433\\include\" \"-IC:\\Program Files (x86)\\Microsoft Visual Studio\\2022\\BuildTools\\VC\\Auxiliary\\VS\\include\" /Tctalib/_ta_lib.c /Fobuild\\temp.win-amd64-cpython-311\\Release\\talib/_ta_lib.obj\n",
      "      _ta_lib.c\n",
      "      c:\\Users\\adame\\anaconda3_\\include\\pyconfig.h(59): fatal error C1083: Cannot open include file: 'io.h': No such file or directory\n",
      "      error: command 'C:\\\\Program Files (x86)\\\\Microsoft Visual Studio\\\\2022\\\\BuildTools\\\\VC\\\\Tools\\\\MSVC\\\\14.42.34433\\\\bin\\\\HostX86\\\\x64\\\\cl.exe' failed with exit code 2\n",
      "      [end of output]\n",
      "  \n",
      "  note: This error originates from a subprocess, and is likely not a problem with pip.\n",
      "  ERROR: Failed building wheel for ta-lib\n",
      "ERROR: Could not build wheels for ta-lib, which is required to install pyproject.toml-based projects\n"
     ]
    }
   ],
   "source": [
    "# Install necessary libraries\n",
    "# %pip install yfinance xgboost\n",
    "# %pip install xgboost\n",
    "%pip install ta-lib\n",
    "\n",
    "# Import necessary libraries\n",
    "import yfinance as yf\n",
    "\n",
    "import pandas as pd\n",
    "import numpy as np\n",
    "import matplotlib.pyplot as plt\n",
    "import seaborn as sns\n",
    "\n",
    "from sklearn.model_selection import train_test_split, cross_val_score\n",
    "from sklearn.ensemble import RandomForestClassifier\n",
    "from sklearn.metrics import accuracy_score, classification_report\n",
    "\n",
    "from xgboost import XGBClassifier\n",
    "\n",
    "# import talib\n",
    "\n",
    "%matplotlib inline"
   ]
  }
 ],
 "metadata": {
  "kernelspec": {
   "display_name": "Python 3",
   "language": "python",
   "name": "python3"
  },
  "language_info": {
   "codemirror_mode": {
    "name": "ipython",
    "version": 3
   },
   "file_extension": ".py",
   "mimetype": "text/x-python",
   "name": "python",
   "nbconvert_exporter": "python",
   "pygments_lexer": "ipython3",
   "version": "3.11.7"
  }
 },
 "nbformat": 4,
 "nbformat_minor": 2
}
