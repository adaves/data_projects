{
 "cells": [
  {
   "cell_type": "code",
   "execution_count": 1,
   "metadata": {},
   "outputs": [],
   "source": [
    "user_input = input(\"Has the tweets dataset been processed? y or n \")"
   ]
  },
  {
   "cell_type": "markdown",
   "metadata": {},
   "source": [
    "# Stock Market Sentiment Analysis\n",
    "\n",
    "## Table of Contents\n",
    "1. [Introduction](#Introduction)\n",
    "2. [Data Collection](#Data-Collection)\n",
    "3. [Data Preprocessing](#Data-Preprocessing)\n",
    "4. [Exploratory Data Analysis](#Exploratory-Data-Analysis)\n",
    "5. [Modeling](#Modeling)\n",
    "    - [Logistic Regression](#Logistic-Regression)\n",
    "    - [Support Vector Machine](#Support-Vector-Machine)\n",
    "6. [Model Evaluation](#Model-Evaluation)\n",
    "7. [Conclusion](#Conclusion)"
   ]
  },
  {
   "cell_type": "markdown",
   "metadata": {},
   "source": [
    "## Introduction\n",
    "In this project, we will perform sentiment analysis on financial news articles to predict the sentiment of the stock market. We will use logistic regression and support vector machine (SVM) for classification and evaluate the models using accuracy, precision, and recall metrics."
   ]
  },
  {
   "cell_type": "markdown",
   "metadata": {},
   "source": [
    "## Data Collection\n",
    "We will collect financial news articles from X (formerly known as Twitter) using the Tweepy library."
   ]
  },
  {
   "cell_type": "code",
   "execution_count": 2,
   "metadata": {},
   "outputs": [],
   "source": [
    "# Install necessary libraries\n",
    "# !pip install tweepy pandas scikit-learn nltk"
   ]
  },
  {
   "cell_type": "code",
   "execution_count": 3,
   "metadata": {},
   "outputs": [],
   "source": [
    "# Install necessary libraries\n",
    "# %pip install tweepy\n",
    "\n",
    "# Import necessary libraries\n",
    "import string\n",
    "import re\n",
    "\n",
    "import pandas as pd\n",
    "import matplotlib.pyplot as plt\n",
    "import numpy as np\n",
    "\n",
    "from sklearn.model_selection import train_test_split\n",
    "from sklearn.feature_extraction.text import TfidfVectorizer\n",
    "from sklearn.linear_model import LogisticRegressionCV\n",
    "from sklearn.svm import SVC\n",
    "from sklearn.metrics import accuracy_score, precision_score, recall_score, classification_report\n",
    "from sklearn.preprocessing import StandardScaler\n",
    "\n",
    "import nltk\n",
    "from nltk.corpus import stopwords\n",
    "from nltk.tokenize import word_tokenize\n",
    "\n",
    "\n",
    "from library.sb_utils import save_file\n",
    "\n",
    "%matplotlib inline\n"
   ]
  },
  {
   "cell_type": "code",
   "execution_count": 4,
   "metadata": {},
   "outputs": [],
   "source": [
    "path = r\"C:\\Users\\adame\\OneDrive\\Desktop\\python_scripts\\data_projects\\x_sentiment_analysis\\x_sentiment_analysis\\data\\raw\\training.1600000.processed.noemoticon.csv\"\n",
    "unprocessed_tweets_df = pd.read_csv(path, encoding='latin', header=None)"
   ]
  },
  {
   "cell_type": "code",
   "execution_count": 5,
   "metadata": {},
   "outputs": [
    {
     "data": {
      "text/html": [
       "<div>\n",
       "<style scoped>\n",
       "    .dataframe tbody tr th:only-of-type {\n",
       "        vertical-align: middle;\n",
       "    }\n",
       "\n",
       "    .dataframe tbody tr th {\n",
       "        vertical-align: top;\n",
       "    }\n",
       "\n",
       "    .dataframe thead th {\n",
       "        text-align: right;\n",
       "    }\n",
       "</style>\n",
       "<table border=\"1\" class=\"dataframe\">\n",
       "  <thead>\n",
       "    <tr style=\"text-align: right;\">\n",
       "      <th></th>\n",
       "      <th>sentiment</th>\n",
       "      <th>id</th>\n",
       "      <th>date</th>\n",
       "      <th>query</th>\n",
       "      <th>user_id</th>\n",
       "      <th>text</th>\n",
       "    </tr>\n",
       "  </thead>\n",
       "  <tbody>\n",
       "    <tr>\n",
       "      <th>0</th>\n",
       "      <td>0</td>\n",
       "      <td>1467810369</td>\n",
       "      <td>Mon Apr 06 22:19:45 PDT 2009</td>\n",
       "      <td>NO_QUERY</td>\n",
       "      <td>_TheSpecialOne_</td>\n",
       "      <td>@switchfoot http://twitpic.com/2y1zl - Awww, t...</td>\n",
       "    </tr>\n",
       "    <tr>\n",
       "      <th>1</th>\n",
       "      <td>0</td>\n",
       "      <td>1467810672</td>\n",
       "      <td>Mon Apr 06 22:19:49 PDT 2009</td>\n",
       "      <td>NO_QUERY</td>\n",
       "      <td>scotthamilton</td>\n",
       "      <td>is upset that he can't update his Facebook by ...</td>\n",
       "    </tr>\n",
       "    <tr>\n",
       "      <th>2</th>\n",
       "      <td>0</td>\n",
       "      <td>1467810917</td>\n",
       "      <td>Mon Apr 06 22:19:53 PDT 2009</td>\n",
       "      <td>NO_QUERY</td>\n",
       "      <td>mattycus</td>\n",
       "      <td>@Kenichan I dived many times for the ball. Man...</td>\n",
       "    </tr>\n",
       "    <tr>\n",
       "      <th>3</th>\n",
       "      <td>0</td>\n",
       "      <td>1467811184</td>\n",
       "      <td>Mon Apr 06 22:19:57 PDT 2009</td>\n",
       "      <td>NO_QUERY</td>\n",
       "      <td>ElleCTF</td>\n",
       "      <td>my whole body feels itchy and like its on fire</td>\n",
       "    </tr>\n",
       "    <tr>\n",
       "      <th>4</th>\n",
       "      <td>0</td>\n",
       "      <td>1467811193</td>\n",
       "      <td>Mon Apr 06 22:19:57 PDT 2009</td>\n",
       "      <td>NO_QUERY</td>\n",
       "      <td>Karoli</td>\n",
       "      <td>@nationwideclass no, it's not behaving at all....</td>\n",
       "    </tr>\n",
       "  </tbody>\n",
       "</table>\n",
       "</div>"
      ],
      "text/plain": [
       "   sentiment          id                          date     query  \\\n",
       "0          0  1467810369  Mon Apr 06 22:19:45 PDT 2009  NO_QUERY   \n",
       "1          0  1467810672  Mon Apr 06 22:19:49 PDT 2009  NO_QUERY   \n",
       "2          0  1467810917  Mon Apr 06 22:19:53 PDT 2009  NO_QUERY   \n",
       "3          0  1467811184  Mon Apr 06 22:19:57 PDT 2009  NO_QUERY   \n",
       "4          0  1467811193  Mon Apr 06 22:19:57 PDT 2009  NO_QUERY   \n",
       "\n",
       "           user_id                                               text  \n",
       "0  _TheSpecialOne_  @switchfoot http://twitpic.com/2y1zl - Awww, t...  \n",
       "1    scotthamilton  is upset that he can't update his Facebook by ...  \n",
       "2         mattycus  @Kenichan I dived many times for the ball. Man...  \n",
       "3          ElleCTF    my whole body feels itchy and like its on fire   \n",
       "4           Karoli  @nationwideclass no, it's not behaving at all....  "
      ]
     },
     "execution_count": 5,
     "metadata": {},
     "output_type": "execute_result"
    }
   ],
   "source": [
    "unprocessed_tweets_df.columns = ['sentiment', 'id', 'date', 'query', 'user_id', 'text']\n",
    "unprocessed_tweets_df.head()"
   ]
  },
  {
   "cell_type": "code",
   "execution_count": 6,
   "metadata": {},
   "outputs": [
    {
     "data": {
      "text/plain": [
       "sentiment\n",
       "0    800000\n",
       "4    800000\n",
       "Name: count, dtype: int64"
      ]
     },
     "execution_count": 6,
     "metadata": {},
     "output_type": "execute_result"
    }
   ],
   "source": [
    "unprocessed_tweets_df['sentiment'].value_counts()"
   ]
  },
  {
   "cell_type": "markdown",
   "metadata": {},
   "source": [
    "Sentiment --> 0 is negative, 2 is neutral, and 4 is positive"
   ]
  },
  {
   "cell_type": "markdown",
   "metadata": {},
   "source": [
    "## Data Preprocessing\n",
    "We will clean and tokenize the text data."
   ]
  },
  {
   "cell_type": "code",
   "execution_count": 7,
   "metadata": {},
   "outputs": [
    {
     "name": "stderr",
     "output_type": "stream",
     "text": [
      "[nltk_data] Downloading package stopwords to\n",
      "[nltk_data]     C:\\Users\\adame\\AppData\\Roaming\\nltk_data...\n",
      "[nltk_data]   Package stopwords is already up-to-date!\n"
     ]
    },
    {
     "data": {
      "text/plain": [
       "True"
      ]
     },
     "execution_count": 7,
     "metadata": {},
     "output_type": "execute_result"
    }
   ],
   "source": [
    "# Check if 'punkt' is already downloaded\n",
    "try:\n",
    "    nltk.data.find('tokenizers/punkt')\n",
    "except LookupError:\n",
    "    nltk.download('punkt')\n",
    "\n",
    "# Download NLTK data\n",
    "nltk.download('stopwords')"
   ]
  },
  {
   "cell_type": "code",
   "execution_count": 8,
   "metadata": {},
   "outputs": [],
   "source": [
    "# Function to clean and tokenize text data\n",
    "def preprocess_text(text):\n",
    "    # Remove URLs\n",
    "    text = re.sub(r'http\\S+', '', text)\n",
    "    # Remove special characters and numbers\n",
    "    text = re.sub(r'[^a-zA-Z]', ' ', text)\n",
    "    # Tokenize text\n",
    "    tokens = word_tokenize(text)\n",
    "    # Remove stopwords\n",
    "    tokens = [word for word in tokens if word.lower() not in stopwords.words('english')]\n",
    "    # Join tokens back into a single string\n",
    "    text = ' '.join(tokens)\n",
    "    return text"
   ]
  },
  {
   "cell_type": "markdown",
   "metadata": {},
   "source": [
    "## Exploratory Data Analysis\n",
    "We will explore the data to understand its structure and distribution."
   ]
  },
  {
   "cell_type": "code",
   "execution_count": 9,
   "metadata": {},
   "outputs": [
    {
     "name": "stdout",
     "output_type": "stream",
     "text": [
      "   sentiment          id                          date     query  \\\n",
      "0          0  1467810369  Mon Apr 06 22:19:45 PDT 2009  NO_QUERY   \n",
      "1          0  1467810672  Mon Apr 06 22:19:49 PDT 2009  NO_QUERY   \n",
      "2          0  1467810917  Mon Apr 06 22:19:53 PDT 2009  NO_QUERY   \n",
      "3          0  1467811184  Mon Apr 06 22:19:57 PDT 2009  NO_QUERY   \n",
      "4          0  1467811193  Mon Apr 06 22:19:57 PDT 2009  NO_QUERY   \n",
      "\n",
      "           user_id                                               text  \\\n",
      "0  _TheSpecialOne_  @switchfoot http://twitpic.com/2y1zl - Awww, t...   \n",
      "1    scotthamilton  is upset that he can't update his Facebook by ...   \n",
      "2         mattycus  @Kenichan I dived many times for the ball. Man...   \n",
      "3          ElleCTF    my whole body feels itchy and like its on fire    \n",
      "4           Karoli  @nationwideclass no, it's not behaving at all....   \n",
      "\n",
      "                                        cleaned_text  \n",
      "0  switchfoot Awww bummer shoulda got David Carr ...  \n",
      "1  upset update Facebook texting might cry result...  \n",
      "2  Kenichan dived many times ball Managed save re...  \n",
      "3                   whole body feels itchy like fire  \n",
      "4                   nationwideclass behaving mad see  \n"
     ]
    }
   ],
   "source": [
    "if user_input == 'n':\n",
    "    # Apply preprocessing to the text data\n",
    "    unprocessed_tweets_df['cleaned_text'] = unprocessed_tweets_df['text'].apply(preprocess_text)\n",
    "\n",
    "    # Display the first few rows of the dataset\n",
    "    unprocessed_tweets_df.head()\n",
    "\n",
    "    # Save the preprocessed dataset\n",
    "    save_file(unprocessed_tweets_df, 'processed_tweets_df.csv')\n",
    "else:\n",
    "    processed_tweets_df = pd.read_csv(r'C:\\Users\\adame\\OneDrive\\Desktop\\python_scripts\\data_projects\\x_sentiment_analysis\\x_sentiment_analysis\\data\\raw\\preprocessed_tweets_df.csv')\n",
    "    print(processed_tweets_df.head())"
   ]
  },
  {
   "cell_type": "markdown",
   "metadata": {},
   "source": [
    "## Modeling\n",
    "We will use logistic regression and support vector machine (SVM) for classification."
   ]
  },
  {
   "cell_type": "code",
   "execution_count": 10,
   "metadata": {},
   "outputs": [],
   "source": [
    "# Fill NaN values with an empty string\n",
    "processed_tweets_df['cleaned_text'] = processed_tweets_df['cleaned_text'].fillna('')\n",
    "\n",
    "# Split the data into training and testing sets\n",
    "X_train, X_test, y_train, y_test = train_test_split(processed_tweets_df['cleaned_text'], processed_tweets_df['sentiment'], test_size=0.25, random_state=42)\n",
    "\n",
    "# Vectorize the text data using TF-IDF\n",
    "vectorizer = TfidfVectorizer()\n",
    "X_train_tfidf = vectorizer.fit_transform(X_train)\n",
    "X_test_tfidf = vectorizer.transform(X_test)"
   ]
  },
  {
   "cell_type": "markdown",
   "metadata": {},
   "source": [
    "### Logistic Regression"
   ]
  },
  {
   "cell_type": "code",
   "execution_count": 19,
   "metadata": {},
   "outputs": [
    {
     "name": "stdout",
     "output_type": "stream",
     "text": [
      "Logistic Regression Metrics:\n",
      "Accuracy: 0.7559975\n",
      "Precision: 0.7561616205988106\n",
      "Recall: 0.7559975\n",
      "Classification Report:\n",
      "               precision    recall  f1-score   support\n",
      "\n",
      "           0       0.75      0.77      0.76    199581\n",
      "           4       0.76      0.74      0.75    200419\n",
      "\n",
      "    accuracy                           0.76    400000\n",
      "   macro avg       0.76      0.76      0.76    400000\n",
      "weighted avg       0.76      0.76      0.76    400000\n",
      "\n"
     ]
    }
   ],
   "source": [
    "# scale the features\n",
    "scaler = StandardScaler(with_mean=False)\n",
    "X_train_scaled = scaler.fit_transform(X_train_tfidf)\n",
    "\n",
    "# Initialize the Logistic Regression model\n",
    "logreg = LogisticRegressionCV(Cs=[0.01, 0.1, 1],        # Regularization strengths\n",
    "                              cv=5,                     # Cross-validation folds\n",
    "                              solver='saga',            # Optimized solver for large datasets\n",
    "                              random_state=42,          # Random state for reproducibility\n",
    "                              max_iter=1000,            # Max iterations\n",
    "                              tol=0.1,                  # Tolerance for convergence\n",
    "                              class_weight='balanced',  # Handle class imbalance\n",
    "                              n_jobs=-1)                # Utilize all CPU cores\n",
    "\n",
    "# Fit the model on the training set\n",
    "logreg.fit(X_train_scaled, y_train)\n",
    "\n",
    "# Make predictions on the test set\n",
    "y_pred_logreg = logreg.predict(X_test_tfidf)\n",
    "\n",
    "# Evaluate the model\n",
    "print('Logistic Regression Metrics:')\n",
    "print('Accuracy:', accuracy_score(y_test, y_pred_logreg))\n",
    "print('Precision:', precision_score(y_test, y_pred_logreg, average='weighted'))\n",
    "print('Recall:', recall_score(y_test, y_pred_logreg, average='weighted'))\n",
    "print('Classification Report:\\n', classification_report(y_test, y_pred_logreg))"
   ]
  },
  {
   "cell_type": "code",
   "execution_count": 20,
   "metadata": {},
   "outputs": [
    {
     "data": {
      "text/plain": [
       "<sklearn.metrics._plot.confusion_matrix.ConfusionMatrixDisplay at 0x23000065ed0>"
      ]
     },
     "execution_count": 20,
     "metadata": {},
     "output_type": "execute_result"
    },
    {
     "data": {
      "image/png": "[encoded data removed]",
      "text/plain": [
       "<Figure size 640x480 with 2 Axes>"
      ]
     },
     "metadata": {},
     "output_type": "display_data"
    }
   ],
   "source": [
    "# import confusion matrix\n",
    "from sklearn.metrics import ConfusionMatrixDisplay\n",
    "\n",
    "# Display confusion matrix\n",
    "ConfusionMatrixDisplay.from_estimator(logreg, X_test_tfidf, y_test)"
   ]
  },
  {
   "cell_type": "code",
   "execution_count": 21,
   "metadata": {},
   "outputs": [
    {
     "data": {
      "image/png": "[encoded data removed]",
      "text/plain": [
       "<Figure size 1000x800 with 1 Axes>"
      ]
     },
     "metadata": {},
     "output_type": "display_data"
    }
   ],
   "source": [
    "# import roc curve\n",
    "from sklearn.metrics import roc_curve, auc\n",
    "\n",
    "# Plot ROC curve\n",
    "fpr, tpr, _ = roc_curve(y_test, logreg.predict_proba(X_test_tfidf)[:, 1], pos_label=4)\n",
    "\n",
    "plt.figure(figsize=(10, 8))\n",
    "plt.plot(fpr, tpr)\n",
    "plt.plot([0, 1], [0, 1], color='navy', lw=2, linestyle='--')\n",
    "plt.xlim([0.0, 1.0])\n",
    "plt.ylim([0.0, 1.05])\n",
    "plt.xlabel('False Positive Rate')\n",
    "plt.ylabel('True Positive Rate')\n",
    "plt.title('ROC Curve')\n",
    "plt.show()"
   ]
  },
  {
   "cell_type": "code",
   "execution_count": 22,
   "metadata": {},
   "outputs": [
    {
     "data": {
      "image/png": "[encoded data removed]",
      "text/plain": [
       "<Figure size 1000x600 with 1 Axes>"
      ]
     },
     "metadata": {},
     "output_type": "display_data"
    }
   ],
   "source": [
    "# create a bar chart for metrics like precision, recall, and accuracy\n",
    "metrics = ['Accuracy', 'Precision', 'Recall']\n",
    "values = [accuracy_score(y_test, y_pred_logreg), \n",
    "          precision_score(y_test, y_pred_logreg, average='weighted'), \n",
    "          recall_score(y_test, y_pred_logreg, average='weighted')]\n",
    "\n",
    "plt.figure(figsize=(10, 6))\n",
    "plt.bar(metrics, values, color=['blue', 'red', 'green'])\n",
    "plt.ylabel('Value')\n",
    "plt.title('Logistic Regression Metrics')\n",
    "plt.show()"
   ]
  },
  {
   "cell_type": "markdown",
   "metadata": {},
   "source": [
    "##Visualize the Results"
   ]
  },
  {
   "cell_type": "code",
   "execution_count": 23,
   "metadata": {},
   "outputs": [
    {
     "data": {
      "image/png": "[encoded data removed]",
      "text/plain": [
       "<Figure size 1000x800 with 2 Axes>"
      ]
     },
     "metadata": {},
     "output_type": "display_data"
    }
   ],
   "source": [
    "# create a heatmap for the confusion matrix\n",
    "from sklearn.metrics import confusion_matrix\n",
    "\n",
    "# Create confusion matrix\n",
    "conf_matrix = confusion_matrix(y_test, y_pred_logreg)\n",
    "\n",
    "# Plot heatmap\n",
    "plt.figure(figsize=(10, 8))\n",
    "plt.imshow(conf_matrix, cmap='Blues', interpolation='None') \n",
    "plt.title('Confusion Matrix')\n",
    "plt.colorbar()\n",
    "plt.xticks([0, 1], ['Negative', 'Positive'], rotation=45)\n",
    "plt.yticks([0, 1], ['Negative', 'Positive'])\n",
    "plt.xlabel('Predicted')\n",
    "plt.ylabel('Actual')\n",
    "plt.show()"
   ]
  },
  {
   "cell_type": "markdown",
   "metadata": {},
   "source": [
    "## Hyperparameter Tuning\n",
    "    We will use GridSearchCV to find the best hyperparameters for the models."
   ]
  },
  {
   "cell_type": "code",
   "execution_count": 24,
   "metadata": {},
   "outputs": [
    {
     "name": "stderr",
     "output_type": "stream",
     "text": [
      "c:\\Users\\adame\\anaconda3_\\Lib\\site-packages\\sklearn\\model_selection\\_validation.py:378: FitFailedWarning: \n",
      "20 fits failed out of a total of 30.\n",
      "The score on these train-test partitions for these parameters will be set to nan.\n",
      "If these failures are not expected, you can try to debug them by setting error_score='raise'.\n",
      "\n",
      "Below are more details about the failures:\n",
      "--------------------------------------------------------------------------------\n",
      "10 fits failed with the following error:\n",
      "Traceback (most recent call last):\n",
      "  File \"c:\\Users\\adame\\anaconda3_\\Lib\\site-packages\\sklearn\\model_selection\\_validation.py\", line 686, in _fit_and_score\n",
      "    estimator.fit(X_train, y_train, **fit_params)\n",
      "  File \"c:\\Users\\adame\\anaconda3_\\Lib\\site-packages\\sklearn\\linear_model\\_logistic.py\", line 1760, in fit\n",
      "    self._validate_params()\n",
      "  File \"c:\\Users\\adame\\anaconda3_\\Lib\\site-packages\\sklearn\\base.py\", line 600, in _validate_params\n",
      "    validate_parameter_constraints(\n",
      "  File \"c:\\Users\\adame\\anaconda3_\\Lib\\site-packages\\sklearn\\utils\\_param_validation.py\", line 97, in validate_parameter_constraints\n",
      "    raise InvalidParameterError(\n",
      "sklearn.utils._param_validation.InvalidParameterError: The 'Cs' parameter of LogisticRegressionCV must be an int in the range [1, inf) or an array-like. Got 0.01 instead.\n",
      "\n",
      "--------------------------------------------------------------------------------\n",
      "10 fits failed with the following error:\n",
      "Traceback (most recent call last):\n",
      "  File \"c:\\Users\\adame\\anaconda3_\\Lib\\site-packages\\sklearn\\model_selection\\_validation.py\", line 686, in _fit_and_score\n",
      "    estimator.fit(X_train, y_train, **fit_params)\n",
      "  File \"c:\\Users\\adame\\anaconda3_\\Lib\\site-packages\\sklearn\\linear_model\\_logistic.py\", line 1760, in fit\n",
      "    self._validate_params()\n",
      "  File \"c:\\Users\\adame\\anaconda3_\\Lib\\site-packages\\sklearn\\base.py\", line 600, in _validate_params\n",
      "    validate_parameter_constraints(\n",
      "  File \"c:\\Users\\adame\\anaconda3_\\Lib\\site-packages\\sklearn\\utils\\_param_validation.py\", line 97, in validate_parameter_constraints\n",
      "    raise InvalidParameterError(\n",
      "sklearn.utils._param_validation.InvalidParameterError: The 'Cs' parameter of LogisticRegressionCV must be an int in the range [1, inf) or an array-like. Got 0.1 instead.\n",
      "\n",
      "  warnings.warn(some_fits_failed_message, FitFailedWarning)\n",
      "c:\\Users\\adame\\anaconda3_\\Lib\\site-packages\\sklearn\\model_selection\\_search.py:952: UserWarning: One or more of the test scores are non-finite: [       nan        nan        nan        nan 0.71630667 0.71630667]\n",
      "  warnings.warn(\n"
     ]
    },
    {
     "name": "stdout",
     "output_type": "stream",
     "text": [
      "Best Parameters: {'Cs': 1, 'cv': 3}\n",
      "Best Score: 0.7163066666666668\n"
     ]
    }
   ],
   "source": [
    "from sklearn.model_selection import GridSearchCV\n",
    "\n",
    "# Define the parameter grid for Logistic Regression\n",
    "param_grid = {'Cs': [0.01, 0.1, 1],\n",
    "              'cv': [3, 5]}\n",
    "\n",
    "# Initialize GridSearchCV\n",
    "grid_search = GridSearchCV(logreg, param_grid, n_jobs=-1, scoring='accuracy')\n",
    "\n",
    "# Fit the model on the training data\n",
    "grid_search.fit(X_train_tfidf, y_train)\n",
    "\n",
    "# Get the best model\n",
    "best_logreg = grid_search.best_estimator_\n",
    "\n",
    "# Get the best parameters\n",
    "print('Best Parameters:', grid_search.best_params_)\n",
    "\n",
    "# Best score\n",
    "print('Best Score:', grid_search.best_score_)\n"
   ]
  },
  {
   "cell_type": "markdown",
   "metadata": {},
   "source": [
    "## Cross-Validation\n",
    "    We will use cross-validation to evaluate the model performance more robustly."
   ]
  },
  {
   "cell_type": "code",
   "execution_count": 25,
   "metadata": {},
   "outputs": [
    {
     "name": "stdout",
     "output_type": "stream",
     "text": [
      "Cross-Validation Scores: [0.71712083 0.71634167 0.717425   0.71637083 0.714275  ]\n",
      "Mean CV Score: 0.7163066666666668\n"
     ]
    }
   ],
   "source": [
    "from sklearn.model_selection import cross_val_score\n",
    "\n",
    "# Perform 5-fold cross validation\n",
    "cv_scores = cross_val_score(best_logreg, X_train_tfidf, y_train, cv=5, n_jobs=-1)\n",
    "\n",
    "# Display the cross-validation scores\n",
    "print('Cross-Validation Scores:', cv_scores)\n",
    "print('Mean CV Score:', np.mean(cv_scores))"
   ]
  },
  {
   "cell_type": "markdown",
   "metadata": {},
   "source": [
    "## Error Analysis\n",
    "    We will analyze the errors made by the model to understand where it is making mistakes."
   ]
  },
  {
   "cell_type": "code",
   "execution_count": 28,
   "metadata": {},
   "outputs": [
    {
     "name": "stdout",
     "output_type": "stream",
     "text": [
      "chrishasboobs AHHH HOPE OK\n",
      "True label: 0\n",
      "Predicted label: 4\n",
      "\n",
      "misstoriblack cool tweet apps razr\n",
      "True label: 0\n",
      "Predicted label: 4\n",
      "\n",
      "TiannaChaos know family drama lame hey next time u hang kim n u guys like sleepover whatever ill call u\n",
      "True label: 0\n",
      "Predicted label: 4\n",
      "\n",
      "PerezHilton Zach makes pee sitting grown gay man\n",
      "True label: 4\n",
      "Predicted label: 0\n",
      "\n",
      "LilPecan Oh really great small blizzard also cold wind blows\n",
      "True label: 4\n",
      "Predicted label: 0\n",
      "\n"
     ]
    }
   ],
   "source": [
    "# identify misclassified samples\n",
    "misclassified_indices = np.where(y_test != y_pred_logreg)[0]\n",
    "\n",
    "# Display some misclassified samples\n",
    "for index in misclassified_indices[:5]:\n",
    "    print(X_test.iloc[index])\n",
    "    print('True label:', y_test.iloc[index])\n",
    "    print('Predicted label:', y_pred_logreg[index])\n",
    "    print()"
   ]
  },
  {
   "cell_type": "code",
   "execution_count": 35,
   "metadata": {},
   "outputs": [
    {
     "name": "stdout",
     "output_type": "stream",
     "text": [
      "Total misclassified samples: 24.40%\n"
     ]
    }
   ],
   "source": [
    "len(misclassified_indices)\n",
    "total = len(misclassified_indices) / len(y_test)\n",
    "print(f'Total misclassified samples: {total * 100:.2f}%')"
   ]
  },
  {
   "cell_type": "markdown",
   "metadata": {},
   "source": [
    "## Conclusion and Future Work\n",
    "    Summarize the findings and discuss the performance of the models. Suggest future work to improve the models.\n",
    "   "
   ]
  },
  {
   "cell_type": "code",
   "execution_count": null,
   "metadata": {},
   "outputs": [],
   "source": []
  },
  {
   "cell_type": "code",
   "execution_count": null,
   "metadata": {},
   "outputs": [],
   "source": []
  },
  {
   "cell_type": "code",
   "execution_count": null,
   "metadata": {},
   "outputs": [],
   "source": []
  },
  {
   "cell_type": "code",
   "execution_count": null,
   "metadata": {},
   "outputs": [],
   "source": []
  },
  {
   "cell_type": "markdown",
   "metadata": {},
   "source": [
    "## Conclusion\n",
    "Summarize the findings and discuss the performance of the models."
   ]
  },
  {
   "cell_type": "code",
   "execution_count": null,
   "metadata": {},
   "outputs": [],
   "source": []
  },
  {
   "cell_type": "code",
   "execution_count": null,
   "metadata": {},
   "outputs": [],
   "source": []
  },
  {
   "cell_type": "code",
   "execution_count": 32,
   "metadata": {},
   "outputs": [
    {
     "name": "stdout",
     "output_type": "stream",
     "text": [
      "A file already exists with this name.\n",
      "\n",
      "Writing file.  \"C:\\Users\\adame\\OneDrive\\Desktop\\python_scripts\\data_projects\\x_sentiment_analysis\\x_sentiment_analysis\\models\\best_svm_model.pkl\"\n",
      "A file already exists with this name.\n",
      "\n",
      "Writing file.  \"C:\\Users\\adame\\OneDrive\\Desktop\\python_scripts\\data_projects\\x_sentiment_analysis\\x_sentiment_analysis\\models\\unprocessed_tweets_df.pkl\"\n",
      "A file already exists with this name.\n",
      "\n",
      "Writing file.  \"C:\\Users\\adame\\OneDrive\\Desktop\\python_scripts\\data_projects\\x_sentiment_analysis\\x_sentiment_analysis\\models\\tfidf_vectorizer.pkl\"\n",
      "Writing file.  \"C:\\Users\\adame\\OneDrive\\Desktop\\python_scripts\\data_projects\\x_sentiment_analysis\\x_sentiment_analysis\\data\\processed\\processed_tweets_df.csv\"\n"
     ]
    }
   ],
   "source": [
    "model_path = r'C:\\Users\\adame\\OneDrive\\Desktop\\python_scripts\\data_projects\\x_sentiment_analysis\\x_sentiment_analysis\\models'\n",
    "\n",
    "# save the model\n",
    "\n",
    "save_file(best_logreg, 'best_svm_model.pkl', model_path)\n",
    "\n",
    "# save the dataframe\n",
    "save_file(unprocessed_tweets_df, 'unprocessed_tweets_df.pkl', model_path)\n",
    "\n",
    "# save the vectorizer\n",
    "save_file(vectorizer, 'tfidf_vectorizer.pkl', model_path)\n",
    "\n",
    "# save the data to csv\n",
    "data_path = r'C:\\Users\\adame\\OneDrive\\Desktop\\python_scripts\\data_projects\\x_sentiment_analysis\\x_sentiment_analysis\\data\\processed'\n",
    "save_file(unprocessed_tweets_df, 'processed_tweets_df.csv', data_path)"
   ]
  }
 ],
 "metadata": {
  "kernelspec": {
   "display_name": "Python 3",
   "language": "python",
   "name": "python3"
  },
  "language_info": {
   "codemirror_mode": {
    "name": "ipython",
    "version": 3
   },
   "file_extension": ".py",
   "mimetype": "text/x-python",
   "name": "python",
   "nbconvert_exporter": "python",
   "pygments_lexer": "ipython3",
   "version": "3.11.7"
  }
 },
 "nbformat": 4,
 "nbformat_minor": 2
}
